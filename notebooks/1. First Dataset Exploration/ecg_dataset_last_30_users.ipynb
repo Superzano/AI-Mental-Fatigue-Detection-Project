{
 "cells": [
  {
   "cell_type": "code",
   "execution_count": 1,
   "metadata": {},
   "outputs": [],
   "source": [
    "import pandas as pd\n",
    "import numpy as np\n",
    "import matplotlib.pyplot as plt\n",
    "import seaborn as sn"
   ]
  },
  {
   "cell_type": "code",
   "execution_count": 2,
   "metadata": {},
   "outputs": [],
   "source": [
    "# Dataset path\n",
    "ecg_last_30_users_file_path = \"../../data/processed/dataset_ecg_last_30_users.csv\""
   ]
  },
  {
   "cell_type": "code",
   "execution_count": 3,
   "metadata": {},
   "outputs": [],
   "source": [
    "# Read the dataset\n",
    "df_ecg = pd.read_csv(ecg_last_30_users_file_path)"
   ]
  },
  {
   "cell_type": "code",
   "execution_count": 4,
   "metadata": {},
   "outputs": [
    {
     "data": {
      "text/html": [
       "<div>\n",
       "<style scoped>\n",
       "    .dataframe tbody tr th:only-of-type {\n",
       "        vertical-align: middle;\n",
       "    }\n",
       "\n",
       "    .dataframe tbody tr th {\n",
       "        vertical-align: top;\n",
       "    }\n",
       "\n",
       "    .dataframe thead th {\n",
       "        text-align: right;\n",
       "    }\n",
       "</style>\n",
       "<table border=\"1\" class=\"dataframe\">\n",
       "  <thead>\n",
       "    <tr style=\"text-align: right;\">\n",
       "      <th></th>\n",
       "      <th>User</th>\n",
       "      <th>Condition</th>\n",
       "      <th>Timestamp</th>\n",
       "      <th>Column2</th>\n",
       "      <th>Column3</th>\n",
       "      <th>Column4</th>\n",
       "      <th>Column5</th>\n",
       "      <th>Column6</th>\n",
       "    </tr>\n",
       "  </thead>\n",
       "  <tbody>\n",
       "    <tr>\n",
       "      <th>0</th>\n",
       "      <td>user29</td>\n",
       "      <td>user_cognitive-fatigue</td>\n",
       "      <td>17:08:09</td>\n",
       "      <td>58</td>\n",
       "      <td>1.232422</td>\n",
       "      <td>4</td>\n",
       "      <td>0</td>\n",
       "      <td>1262</td>\n",
       "    </tr>\n",
       "    <tr>\n",
       "      <th>1</th>\n",
       "      <td>user29</td>\n",
       "      <td>user_cognitive-fatigue</td>\n",
       "      <td>17:08:10</td>\n",
       "      <td>57</td>\n",
       "      <td>1.172852</td>\n",
       "      <td>4</td>\n",
       "      <td>0</td>\n",
       "      <td>1201</td>\n",
       "    </tr>\n",
       "    <tr>\n",
       "      <th>2</th>\n",
       "      <td>user29</td>\n",
       "      <td>user_cognitive-fatigue</td>\n",
       "      <td>17:08:11</td>\n",
       "      <td>56</td>\n",
       "      <td>1.188477</td>\n",
       "      <td>4</td>\n",
       "      <td>0</td>\n",
       "      <td>1217</td>\n",
       "    </tr>\n",
       "    <tr>\n",
       "      <th>3</th>\n",
       "      <td>user29</td>\n",
       "      <td>user_cognitive-fatigue</td>\n",
       "      <td>17:08:12</td>\n",
       "      <td>56</td>\n",
       "      <td>1.148438</td>\n",
       "      <td>4</td>\n",
       "      <td>62</td>\n",
       "      <td>1176</td>\n",
       "    </tr>\n",
       "    <tr>\n",
       "      <th>4</th>\n",
       "      <td>user29</td>\n",
       "      <td>user_cognitive-fatigue</td>\n",
       "      <td>17:08:13</td>\n",
       "      <td>55</td>\n",
       "      <td>1.103516</td>\n",
       "      <td>4</td>\n",
       "      <td>6</td>\n",
       "      <td>1130</td>\n",
       "    </tr>\n",
       "  </tbody>\n",
       "</table>\n",
       "</div>"
      ],
      "text/plain": [
       "     User               Condition Timestamp  Column2   Column3 Column4  \\\n",
       "0  user29  user_cognitive-fatigue  17:08:09       58  1.232422       4   \n",
       "1  user29  user_cognitive-fatigue  17:08:10       57  1.172852       4   \n",
       "2  user29  user_cognitive-fatigue  17:08:11       56  1.188477       4   \n",
       "3  user29  user_cognitive-fatigue  17:08:12       56  1.148438       4   \n",
       "4  user29  user_cognitive-fatigue  17:08:13       55  1.103516       4   \n",
       "\n",
       "  Column5  Column6  \n",
       "0       0     1262  \n",
       "1       0     1201  \n",
       "2       0     1217  \n",
       "3      62     1176  \n",
       "4       6     1130  "
      ]
     },
     "execution_count": 4,
     "metadata": {},
     "output_type": "execute_result"
    }
   ],
   "source": [
    "# Explore the dataset\n",
    "df_ecg.head()"
   ]
  },
  {
   "cell_type": "code",
   "execution_count": null,
   "metadata": {},
   "outputs": [],
   "source": []
  }
 ],
 "metadata": {
  "kernelspec": {
   "display_name": "journal-paper-env",
   "language": "python",
   "name": "python3"
  },
  "language_info": {
   "codemirror_mode": {
    "name": "ipython",
    "version": 3
   },
   "file_extension": ".py",
   "mimetype": "text/x-python",
   "name": "python",
   "nbconvert_exporter": "python",
   "pygments_lexer": "ipython3",
   "version": "3.11.4"
  },
  "orig_nbformat": 4
 },
 "nbformat": 4,
 "nbformat_minor": 2
}
