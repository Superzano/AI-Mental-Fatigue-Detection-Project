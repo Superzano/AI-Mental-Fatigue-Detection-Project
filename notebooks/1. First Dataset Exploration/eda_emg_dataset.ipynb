{
 "cells": [
  {
   "cell_type": "code",
   "execution_count": 2,
   "metadata": {},
   "outputs": [],
   "source": [
    "import pandas as pd\n",
    "import numpy as np\n",
    "import matplotlib.pyplot as plt\n",
    "import seaborn as sn"
   ]
  },
  {
   "cell_type": "code",
   "execution_count": 3,
   "metadata": {},
   "outputs": [],
   "source": [
    "# Dataset path\n",
    "eda_emg_file_path = \"../../data/processed/dataset_eda_emg.csv\""
   ]
  },
  {
   "cell_type": "code",
   "execution_count": 4,
   "metadata": {},
   "outputs": [],
   "source": [
    "# Read the dataset\n",
    "df_eda_emg = pd.read_csv(eda_emg_file_path)"
   ]
  },
  {
   "cell_type": "code",
   "execution_count": 5,
   "metadata": {},
   "outputs": [
    {
     "data": {
      "text/html": [
       "<div>\n",
       "<style scoped>\n",
       "    .dataframe tbody tr th:only-of-type {\n",
       "        vertical-align: middle;\n",
       "    }\n",
       "\n",
       "    .dataframe tbody tr th {\n",
       "        vertical-align: top;\n",
       "    }\n",
       "\n",
       "    .dataframe thead th {\n",
       "        text-align: right;\n",
       "    }\n",
       "</style>\n",
       "<table border=\"1\" class=\"dataframe\">\n",
       "  <thead>\n",
       "    <tr style=\"text-align: right;\">\n",
       "      <th></th>\n",
       "      <th>User</th>\n",
       "      <th>Condition</th>\n",
       "      <th>Timestamp</th>\n",
       "      <th>Column2</th>\n",
       "      <th>Column3</th>\n",
       "      <th>Column4</th>\n",
       "    </tr>\n",
       "  </thead>\n",
       "  <tbody>\n",
       "    <tr>\n",
       "      <th>0</th>\n",
       "      <td>user0</td>\n",
       "      <td>user_cognitive-fatigue</td>\n",
       "      <td>15:06:28.000</td>\n",
       "      <td>4</td>\n",
       "      <td>499</td>\n",
       "      <td>136</td>\n",
       "    </tr>\n",
       "    <tr>\n",
       "      <th>1</th>\n",
       "      <td>user0</td>\n",
       "      <td>user_cognitive-fatigue</td>\n",
       "      <td>15:06:28.001</td>\n",
       "      <td>5</td>\n",
       "      <td>504</td>\n",
       "      <td>137</td>\n",
       "    </tr>\n",
       "    <tr>\n",
       "      <th>2</th>\n",
       "      <td>user0</td>\n",
       "      <td>user_cognitive-fatigue</td>\n",
       "      <td>15:06:28.002</td>\n",
       "      <td>6</td>\n",
       "      <td>502</td>\n",
       "      <td>136</td>\n",
       "    </tr>\n",
       "    <tr>\n",
       "      <th>3</th>\n",
       "      <td>user0</td>\n",
       "      <td>user_cognitive-fatigue</td>\n",
       "      <td>15:06:28.003</td>\n",
       "      <td>7</td>\n",
       "      <td>502</td>\n",
       "      <td>137</td>\n",
       "    </tr>\n",
       "    <tr>\n",
       "      <th>4</th>\n",
       "      <td>user0</td>\n",
       "      <td>user_cognitive-fatigue</td>\n",
       "      <td>15:06:28.004</td>\n",
       "      <td>8</td>\n",
       "      <td>504</td>\n",
       "      <td>136</td>\n",
       "    </tr>\n",
       "  </tbody>\n",
       "</table>\n",
       "</div>"
      ],
      "text/plain": [
       "    User               Condition     Timestamp  Column2  Column3  Column4\n",
       "0  user0  user_cognitive-fatigue  15:06:28.000        4      499      136\n",
       "1  user0  user_cognitive-fatigue  15:06:28.001        5      504      137\n",
       "2  user0  user_cognitive-fatigue  15:06:28.002        6      502      136\n",
       "3  user0  user_cognitive-fatigue  15:06:28.003        7      502      137\n",
       "4  user0  user_cognitive-fatigue  15:06:28.004        8      504      136"
      ]
     },
     "execution_count": 5,
     "metadata": {},
     "output_type": "execute_result"
    }
   ],
   "source": [
    "# Explore the dataset\n",
    "df_eda_emg.head()"
   ]
  },
  {
   "cell_type": "code",
   "execution_count": null,
   "metadata": {},
   "outputs": [],
   "source": []
  }
 ],
 "metadata": {
  "kernelspec": {
   "display_name": "journal-paper-env",
   "language": "python",
   "name": "python3"
  },
  "language_info": {
   "codemirror_mode": {
    "name": "ipython",
    "version": 3
   },
   "file_extension": ".py",
   "mimetype": "text/x-python",
   "name": "python",
   "nbconvert_exporter": "python",
   "pygments_lexer": "ipython3",
   "version": "3.11.4"
  },
  "orig_nbformat": 4
 },
 "nbformat": 4,
 "nbformat_minor": 2
}
