{
 "cells": [
  {
   "cell_type": "code",
   "execution_count": 2,
   "metadata": {},
   "outputs": [],
   "source": [
    "import pandas as pd\n",
    "import numpy as np\n",
    "import matplotlib.pyplot as plt\n",
    "import seaborn as sns\n",
    "import neurokit2 as nk\n",
    "from sklearn.pipeline import Pipeline\n",
    "from sklearn.preprocessing import FunctionTransformer\n",
    "import scipy as sp\n",
    "import copy \n",
    "import matplotlib.pyplot as plt\n",
    "import copy\n",
    "import warnings\n",
    "\n",
    "\n",
    "warnings.simplefilter(action='ignore', category=FutureWarning)\n",
    "warnings.simplefilter(action='ignore', category=UserWarning)\n",
    "warnings.simplefilter(action='ignore', category=RuntimeWarning)\n",
    "pd.options.mode.chained_assignment = None\n",
    "\n",
    "%matplotlib inline"
   ]
  },
  {
   "cell_type": "markdown",
   "metadata": {},
   "source": [
    "# Config"
   ]
  },
  {
   "cell_type": "code",
   "execution_count": 20,
   "metadata": {},
   "outputs": [],
   "source": [
    "# ECG sample frequency (Hz)\n",
    "# Probably the 1000 Hz refers to the raw ECG sample rate. The RR-Interval values in the raw data are probably computed over 1 Hz\n",
    "ecg_sampling_rate = 1000\n",
    "\n",
    "# Sliding window in seconds and overlapping ration\n",
    "ecg_sliding_window_size = 150  \n",
    "ecg_overlapping_ratio = 0  \n",
    "\n",
    "# Rename columns\n",
    "ecg_column_mapping = {\n",
    "    \"Column2\": \"HR_bpm\",\n",
    "    \"Column3\": \"RR_Interval_1024\",\n",
    "    \"Column4\": \"Exadecimal1\",\n",
    "    \"Column5\": \"Exadecimal2\",\n",
    "    \"Column6\": \"RR_Interval_ms\"\n",
    "}\n",
    "\n",
    "# Select columns of interest\n",
    "ecg_selected_columns = [\"User\", \"Condition\", \"Timestamp\", \"HR_bpm\", \"RR_Interval_ms\"]\n",
    "\n",
    "# Splitting dataset\n",
    "conditions = [\"user_cognitive-fatigue\", \"user_combo-fatigue\", \"user_physical-fatigue\", \"user_rest\"]\n",
    "\n",
    "# Dataset path\n",
    "ecg_first_30_users_file_path = \"../../data/processed/dataset_ecg_first_30_users.csv\""
   ]
  },
  {
   "cell_type": "markdown",
   "metadata": {},
   "source": [
    "# Functions"
   ]
  },
  {
   "cell_type": "code",
   "execution_count": 4,
   "metadata": {},
   "outputs": [],
   "source": [
    "def rename_columns(df, column_mapping):\n",
    "    \"\"\"\n",
    "    Returns a copy of the DataFrame with renamed columns based on a dictionary mapping.\n",
    "\n",
    "    Parameters:\n",
    "        df (pd.DataFrame): The DataFrame to modify.\n",
    "        column_mapping (dict): A dictionary containing the associations between the old column names\n",
    "                               and the new column names.\n",
    "\n",
    "    Returns:\n",
    "        pd.DataFrame: A new DataFrame with the renamed columns.\n",
    "    \"\"\"\n",
    "    return df.rename(columns=column_mapping)"
   ]
  },
  {
   "cell_type": "code",
   "execution_count": 5,
   "metadata": {},
   "outputs": [],
   "source": [
    "def divide_column_by_value(df, column_name, divisor):\n",
    "    \"\"\"\n",
    "    Divides the values in the specified column by the provided divisor.\n",
    "\n",
    "    Parameters:\n",
    "        df (pd.DataFrame): The input DataFrame.\n",
    "        column_name (str): The name of the column to be divided.\n",
    "        divisor (int or float): The value to divide the column by.\n",
    "\n",
    "    Returns:\n",
    "        pd.DataFrame: A new DataFrame with the specified column divided by the divisor.\n",
    "    \"\"\"\n",
    "    new_df = df.copy()\n",
    "    new_df[column_name] = new_df[column_name] / divisor\n",
    "    return new_df"
   ]
  },
  {
   "cell_type": "code",
   "execution_count": 6,
   "metadata": {},
   "outputs": [],
   "source": [
    "def rename_column(df, old_column_name, new_column_name):\n",
    "    \"\"\"\n",
    "    Renames a single column in the DataFrame.\n",
    "\n",
    "    Parameters:\n",
    "        df (pd.DataFrame): The input DataFrame.\n",
    "        old_column_name (str): The current name of the column.\n",
    "        new_column_name (str): The new name for the column.\n",
    "\n",
    "    Returns:\n",
    "        pd.DataFrame: A new DataFrame with the specified column renamed.\n",
    "    \"\"\"\n",
    "    new_df = df.copy()\n",
    "    new_df.rename(columns={old_column_name: new_column_name}, inplace=True)\n",
    "    return new_df"
   ]
  },
  {
   "cell_type": "code",
   "execution_count": 7,
   "metadata": {},
   "outputs": [],
   "source": [
    "def split_data_by_condition(df, condition_column, condition_values):\n",
    "    \"\"\"\n",
    "    Splits the input DataFrame into multiple subset DataFrames based on the specified conditions.\n",
    "\n",
    "    Parameters:\n",
    "        df (pd.DataFrame): The input DataFrame.\n",
    "        condition_column (str): The name of the column to use for splitting (e.g., \"Condition\").\n",
    "        condition_values (list): A list of values representing the conditions to split the DataFrame.\n",
    "\n",
    "    Returns:\n",
    "        list: A list of subset DataFrames, one for each condition specified in the list.\n",
    "    \"\"\"\n",
    "    subset_dataframes = [df[df[condition_column] == value].copy() for value in condition_values]\n",
    "    return subset_dataframes"
   ]
  },
  {
   "cell_type": "code",
   "execution_count": 8,
   "metadata": {},
   "outputs": [],
   "source": [
    "def select_columns(df, columns_to_select):\n",
    "    \"\"\"\n",
    "    Returns a new DataFrame with the subset of columns specified in the input list.\n",
    "\n",
    "    Parameters:\n",
    "        df (pd.DataFrame): The input DataFrame.\n",
    "        columns_to_select (list): A list of column names to select from the DataFrame.\n",
    "\n",
    "    Returns:\n",
    "        pd.DataFrame: A new DataFrame containing the subset of columns specified in the input list.\n",
    "    \"\"\"\n",
    "    return df[columns_to_select].copy()"
   ]
  },
  {
   "cell_type": "code",
   "execution_count": 9,
   "metadata": {},
   "outputs": [],
   "source": [
    "def convert_timestamp_to_time(df, timestamp_column):\n",
    "    \"\"\"\n",
    "    Converts the timestamp column in the DataFrame to datetime.time format and returns a new DataFrame.\n",
    "\n",
    "    Parameters:\n",
    "        df (pd.DataFrame): The input DataFrame.\n",
    "        timestamp_column (str): The name of the timestamp column to convert.\n",
    "\n",
    "    Returns:\n",
    "        pd.DataFrame: A new DataFrame with the timestamp column converted to datetime.time format.\n",
    "    \"\"\"\n",
    "    new_df = df.copy()\n",
    "    new_df[timestamp_column] = pd.to_datetime(new_df[timestamp_column])\n",
    "    return new_df"
   ]
  },
  {
   "cell_type": "code",
   "execution_count": 10,
   "metadata": {},
   "outputs": [],
   "source": [
    "def split_dataset_into_windows(df, timestamp_column, column_to_split, window_size, overlap_ratio=0):\n",
    "    \"\"\"\n",
    "    Splits the input DataFrame into temporal subsets using sliding windows.\n",
    "\n",
    "    Parameters:\n",
    "        df (pd.DataFrame): The input DataFrame.\n",
    "        timestamp_column (str): The name of the timestamp column in the DataFrame.\n",
    "        column_to_split (str): The name of the column on which to apply the sliding window.\n",
    "        window_size (float): The size of the sliding window in seconds.\n",
    "        overlap_ratio (float, optional): The percentage of overlapping between sliding windows (0 to 1).\n",
    "\n",
    "    Returns:\n",
    "        list: A list of DataFrames, each representing a temporal subset obtained using the sliding window.\n",
    "    \"\"\"\n",
    "    # Sort the DataFrame by the timestamp column to ensure data is in chronological order\n",
    "    df_sorted = df.sort_values(by=timestamp_column)\n",
    "\n",
    "    # Calculate the number of data points to overlap\n",
    "    overlap_points = int(window_size * overlap_ratio)\n",
    "\n",
    "    # Create a list to store the temporal subsets (DataFrames)\n",
    "    temporal_subsets = []\n",
    "\n",
    "    # Apply the sliding window with or without overlapping\n",
    "    for i in range(0, len(df_sorted) - window_size + 1, window_size - overlap_points):\n",
    "        temporal_subset = df_sorted.iloc[i : i + window_size]\n",
    "        temporal_subsets.append(temporal_subset)\n",
    "\n",
    "    return temporal_subsets"
   ]
  },
  {
   "cell_type": "code",
   "execution_count": 11,
   "metadata": {},
   "outputs": [],
   "source": [
    "def intervals_to_peaks(dataframe, column_name):\n",
    "    \"\"\"\n",
    "    Convert RR-Interval values to R-peaks using NeuroKit2.\n",
    "\n",
    "    Parameters:\n",
    "        dataframe (pd.DataFrame): The input DataFrame.\n",
    "        column_name (str): The name of the column containing RR-Interval values.\n",
    "\n",
    "    Returns:\n",
    "        pd.Series: A new Series containing the R-peaks obtained from the RR-Interval values.\n",
    "    \"\"\"\n",
    "    r_peaks = nk.intervals_to_peaks(dataframe[column_name])\n",
    "    return r_peaks"
   ]
  },
  {
   "cell_type": "code",
   "execution_count": 12,
   "metadata": {},
   "outputs": [],
   "source": [
    "def calculate_hrv_features(r_peaks, sampling_rate, show=False):\n",
    "    \"\"\"\n",
    "    Calculates Heart Rate Variability (HRV) features dataframe from R-peaks array using NeuroKit2.\n",
    "\n",
    "    Parameters:\n",
    "        r_peaks (array): An array containing the locations of R-peaks in the ECG signal.\n",
    "                         R-peaks represent the heart's electrical activity peaks.\n",
    "        sampling_rate (int): The sampling rate of the ECG signal, i.e., the number of samples per second.\n",
    "                             It is used to convert time intervals to seconds in HRV calculations.\n",
    "        show (bool, optional): A boolean to decide whether showing HRV-related plots or not. \n",
    "                               Set to True to display HRV-related plots; False otherwise.\n",
    "\n",
    "    Returns:\n",
    "        DataFrame: A pandas DataFrame containing various HRV features computed from the R-peaks.\n",
    "                   The DataFrame includes metrics such as RMSSD, SDNN, pNN50, LF, HF, etc.\n",
    "                   Each row corresponds to a specific HRV feature for the entire signal or specific segments.\n",
    "    \"\"\"\n",
    "    \n",
    "    # Calculate HRV features DataFrame using NeuroKit2\n",
    "    hrv_features_df = nk.hrv(r_peaks, sampling_rate=sampling_rate, show=show)\n",
    "\n",
    "    return hrv_features_df"
   ]
  },
  {
   "cell_type": "code",
   "execution_count": 13,
   "metadata": {},
   "outputs": [],
   "source": [
    "def concatenate_dataframes(dataframes_list, axis=0):\n",
    "    \"\"\"\n",
    "    Concatenates a list of DataFrames into a single DataFrame.\n",
    "\n",
    "    Parameters:\n",
    "        dataframes_list (list): A list of DataFrames to be concatenated.\n",
    "        axis (int, optional): The axis along which the DataFrames will be concatenated.\n",
    "                              If axis=0, concatenates vertically (rows).\n",
    "                              If axis=1, concatenates horizontally (columns).\n",
    "\n",
    "    Returns:\n",
    "        pd.DataFrame: A new DataFrame obtained by concatenating all DataFrames in the input list.\n",
    "    \"\"\"\n",
    "    concatenated_df = pd.concat(dataframes_list, axis=axis, ignore_index=True)\n",
    "    return concatenated_df"
   ]
  },
  {
   "cell_type": "markdown",
   "metadata": {},
   "source": [
    "# Execution Pipeline"
   ]
  },
  {
   "cell_type": "code",
   "execution_count": 14,
   "metadata": {},
   "outputs": [],
   "source": [
    "# Read the dataset\n",
    "df_ecg = pd.read_csv(ecg_first_30_users_file_path)"
   ]
  },
  {
   "cell_type": "code",
   "execution_count": 15,
   "metadata": {},
   "outputs": [],
   "source": [
    "# Rename the dataset\n",
    "df_ecg_renamed = rename_columns(df_ecg, ecg_column_mapping)"
   ]
  },
  {
   "cell_type": "code",
   "execution_count": 16,
   "metadata": {},
   "outputs": [],
   "source": [
    "# Select columns of interest\n",
    "df_ecg_selected = select_columns(df_ecg_renamed, ecg_selected_columns)"
   ]
  },
  {
   "cell_type": "code",
   "execution_count": 17,
   "metadata": {},
   "outputs": [],
   "source": [
    "# Convert Timestamp column into DateTime dtype\n",
    "df_ecg_converted_timestamp = convert_timestamp_to_time(df_ecg_selected, \"Timestamp\")"
   ]
  },
  {
   "cell_type": "code",
   "execution_count": 18,
   "metadata": {},
   "outputs": [],
   "source": [
    "# Split the dataset\n",
    "subset_dataframes_list = split_data_by_condition(df_ecg_converted_timestamp, \"Condition\", conditions)"
   ]
  },
  {
   "cell_type": "code",
   "execution_count": 21,
   "metadata": {},
   "outputs": [],
   "source": [
    "# Generate the ECG Features dataset for each Condition\n",
    "user_list = [f\"user{i}\" for i in range(30)]\n",
    "hrv_df_condition_list = list()\n",
    "\n",
    "for df in subset_dataframes_list:\n",
    "    \n",
    "    hrv_df_list = list()\n",
    "    \n",
    "    for user in user_list:\n",
    "        #Get the df subset of a specific user\n",
    "        user_subset = df.loc[df['User'] == user]\n",
    "        #Split dataset into temporal subsets\n",
    "        temporal_subsets = split_dataset_into_windows(user_subset, \"Timestamp\", \"RR_Interval_ms\", \n",
    "                                                      ecg_sliding_window_size, ecg_overlapping_ratio)\n",
    "        for temporal_subset in temporal_subsets:\n",
    "            # Compute R-Peaks from RR Interval\n",
    "            r_peaks = intervals_to_peaks(temporal_subset, \"RR_Interval_ms\")\n",
    "            # Get HRV features for each temporal subset\n",
    "            hrv_features_df = calculate_hrv_features(r_peaks, sampling_rate = ecg_sampling_rate, show=False)\n",
    "            # Aggiungere a sx le colonne User, Condition e Mean HR\n",
    "            hrv_features_df.insert(0, \"ECG_Rate_Mean\", temporal_subset['HR_bpm'].mean())\n",
    "            hrv_features_df.insert(0, \"Condition\", df['Condition'].unique()[0])\n",
    "            hrv_features_df.insert(0, \"User\", user)\n",
    "            hrv_df_list.append(hrv_features_df)\n",
    "            \n",
    "    hrv_df_condition = concatenate_dataframes(hrv_df_list, axis=0)  \n",
    "    hrv_df_condition_list.append(hrv_df_condition)"
   ]
  },
  {
   "cell_type": "markdown",
   "metadata": {},
   "source": [
    "### Inspect the DataFrames"
   ]
  },
  {
   "cell_type": "code",
   "execution_count": 22,
   "metadata": {},
   "outputs": [
    {
     "data": {
      "text/plain": [
       "(61, 94)"
      ]
     },
     "execution_count": 22,
     "metadata": {},
     "output_type": "execute_result"
    }
   ],
   "source": [
    "hrv_df_condition_list[0].shape"
   ]
  },
  {
   "cell_type": "code",
   "execution_count": null,
   "metadata": {},
   "outputs": [],
   "source": [
    "hrv_df_condition_list[1].shape"
   ]
  },
  {
   "cell_type": "code",
   "execution_count": null,
   "metadata": {},
   "outputs": [],
   "source": [
    "hrv_df_condition_list[2].shape"
   ]
  },
  {
   "cell_type": "code",
   "execution_count": null,
   "metadata": {},
   "outputs": [],
   "source": [
    "hrv_df_condition_list[3].shape"
   ]
  },
  {
   "cell_type": "code",
   "execution_count": null,
   "metadata": {},
   "outputs": [],
   "source": []
  },
  {
   "cell_type": "code",
   "execution_count": null,
   "metadata": {},
   "outputs": [],
   "source": []
  },
  {
   "cell_type": "code",
   "execution_count": null,
   "metadata": {},
   "outputs": [],
   "source": []
  },
  {
   "cell_type": "code",
   "execution_count": null,
   "metadata": {},
   "outputs": [],
   "source": []
  }
 ],
 "metadata": {
  "kernelspec": {
   "display_name": "journal-paper-env",
   "language": "python",
   "name": "python3"
  },
  "language_info": {
   "codemirror_mode": {
    "name": "ipython",
    "version": 3
   },
   "file_extension": ".py",
   "mimetype": "text/x-python",
   "name": "python",
   "nbconvert_exporter": "python",
   "pygments_lexer": "ipython3",
   "version": "3.11.4"
  },
  "orig_nbformat": 4,
  "vscode": {
   "interpreter": {
    "hash": "4bc4b18d445561a86dc1e3c3b3baa3752f9ab387c458cee3dd0d6d8a1976b632"
   }
  }
 },
 "nbformat": 4,
 "nbformat_minor": 2
}
