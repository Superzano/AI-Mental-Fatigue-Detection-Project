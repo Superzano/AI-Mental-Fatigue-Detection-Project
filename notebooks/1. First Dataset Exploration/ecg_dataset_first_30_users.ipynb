{
 "cells": [
  {
   "cell_type": "code",
   "execution_count": 3,
   "metadata": {},
   "outputs": [],
   "source": [
    "import pandas as pd\n",
    "import numpy as np\n",
    "import matplotlib.pyplot as plt\n",
    "import seaborn as sn"
   ]
  },
  {
   "cell_type": "code",
   "execution_count": 4,
   "metadata": {},
   "outputs": [],
   "source": [
    "# Dataset path\n",
    "ecg_first_30_users_file_path = \"../../data/processed/dataset_ecg_first_30_users.csv\""
   ]
  },
  {
   "cell_type": "code",
   "execution_count": 5,
   "metadata": {},
   "outputs": [],
   "source": [
    "# Read the dataset\n",
    "df_ecg = pd.read_csv(ecg_first_30_users_file_path)"
   ]
  },
  {
   "cell_type": "code",
   "execution_count": 6,
   "metadata": {},
   "outputs": [
    {
     "data": {
      "text/html": [
       "<div>\n",
       "<style scoped>\n",
       "    .dataframe tbody tr th:only-of-type {\n",
       "        vertical-align: middle;\n",
       "    }\n",
       "\n",
       "    .dataframe tbody tr th {\n",
       "        vertical-align: top;\n",
       "    }\n",
       "\n",
       "    .dataframe thead th {\n",
       "        text-align: right;\n",
       "    }\n",
       "</style>\n",
       "<table border=\"1\" class=\"dataframe\">\n",
       "  <thead>\n",
       "    <tr style=\"text-align: right;\">\n",
       "      <th></th>\n",
       "      <th>User</th>\n",
       "      <th>Condition</th>\n",
       "      <th>Timestamp</th>\n",
       "      <th>Column2</th>\n",
       "      <th>Column3</th>\n",
       "      <th>Column4</th>\n",
       "      <th>Column5</th>\n",
       "      <th>Column6</th>\n",
       "    </tr>\n",
       "  </thead>\n",
       "  <tbody>\n",
       "    <tr>\n",
       "      <th>0</th>\n",
       "      <td>user0</td>\n",
       "      <td>user_cognitive-fatigue</td>\n",
       "      <td>15:06:28</td>\n",
       "      <td>72</td>\n",
       "      <td>0.849609</td>\n",
       "      <td>3</td>\n",
       "      <td>42</td>\n",
       "      <td>870</td>\n",
       "    </tr>\n",
       "    <tr>\n",
       "      <th>1</th>\n",
       "      <td>user0</td>\n",
       "      <td>user_cognitive-fatigue</td>\n",
       "      <td>15:06:29</td>\n",
       "      <td>72</td>\n",
       "      <td>0.751953</td>\n",
       "      <td>3</td>\n",
       "      <td>2</td>\n",
       "      <td>770</td>\n",
       "    </tr>\n",
       "    <tr>\n",
       "      <th>2</th>\n",
       "      <td>user0</td>\n",
       "      <td>user_cognitive-fatigue</td>\n",
       "      <td>15:06:30</td>\n",
       "      <td>73</td>\n",
       "      <td>0.766602</td>\n",
       "      <td>3</td>\n",
       "      <td>b</td>\n",
       "      <td>785</td>\n",
       "    </tr>\n",
       "    <tr>\n",
       "      <th>3</th>\n",
       "      <td>user0</td>\n",
       "      <td>user_cognitive-fatigue</td>\n",
       "      <td>15:06:31</td>\n",
       "      <td>73</td>\n",
       "      <td>0.752930</td>\n",
       "      <td>3</td>\n",
       "      <td>3</td>\n",
       "      <td>771</td>\n",
       "    </tr>\n",
       "    <tr>\n",
       "      <th>4</th>\n",
       "      <td>user0</td>\n",
       "      <td>user_cognitive-fatigue</td>\n",
       "      <td>15:06:32</td>\n",
       "      <td>74</td>\n",
       "      <td>0.783203</td>\n",
       "      <td>3</td>\n",
       "      <td>16</td>\n",
       "      <td>802</td>\n",
       "    </tr>\n",
       "  </tbody>\n",
       "</table>\n",
       "</div>"
      ],
      "text/plain": [
       "    User               Condition Timestamp  Column2   Column3 Column4 Column5  \\\n",
       "0  user0  user_cognitive-fatigue  15:06:28       72  0.849609       3      42   \n",
       "1  user0  user_cognitive-fatigue  15:06:29       72  0.751953       3       2   \n",
       "2  user0  user_cognitive-fatigue  15:06:30       73  0.766602       3       b   \n",
       "3  user0  user_cognitive-fatigue  15:06:31       73  0.752930       3       3   \n",
       "4  user0  user_cognitive-fatigue  15:06:32       74  0.783203       3      16   \n",
       "\n",
       "   Column6  \n",
       "0      870  \n",
       "1      770  \n",
       "2      785  \n",
       "3      771  \n",
       "4      802  "
      ]
     },
     "execution_count": 6,
     "metadata": {},
     "output_type": "execute_result"
    }
   ],
   "source": [
    "# Explore the dataset\n",
    "df_ecg.head()"
   ]
  },
  {
   "cell_type": "code",
   "execution_count": null,
   "metadata": {},
   "outputs": [],
   "source": []
  }
 ],
 "metadata": {
  "kernelspec": {
   "display_name": "journal-paper-env",
   "language": "python",
   "name": "python3"
  },
  "language_info": {
   "codemirror_mode": {
    "name": "ipython",
    "version": 3
   },
   "file_extension": ".py",
   "mimetype": "text/x-python",
   "name": "python",
   "nbconvert_exporter": "python",
   "pygments_lexer": "ipython3",
   "version": "3.11.4"
  },
  "orig_nbformat": 4
 },
 "nbformat": 4,
 "nbformat_minor": 2
}
